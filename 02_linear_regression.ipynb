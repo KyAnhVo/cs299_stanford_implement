{
 "cells": [
  {
   "cell_type": "markdown",
   "metadata": {},
   "source": [
    "# LECTURE 02: Linear regression"
   ]
  },
  {
   "cell_type": "markdown",
   "metadata": {},
   "source": [
    "## Boilerplate imports"
   ]
  },
  {
   "cell_type": "code",
   "execution_count": 1,
   "metadata": {},
   "outputs": [],
   "source": [
    "import numpy as np\n",
    "import matplotlib.pyplot as plt\n",
    "import random\n",
    "import time"
   ]
  },
  {
   "cell_type": "markdown",
   "metadata": {},
   "source": [
    "## 2D regression"
   ]
  },
  {
   "cell_type": "markdown",
   "metadata": {},
   "source": [
    "### Define learning rate, convergence definition"
   ]
  },
  {
   "cell_type": "code",
   "execution_count": 2,
   "metadata": {},
   "outputs": [],
   "source": [
    "alpha = 0.01\n",
    "maxIteration = 100"
   ]
  },
  {
   "cell_type": "markdown",
   "metadata": {},
   "source": [
    "### Create m random 2D points"
   ]
  },
  {
   "cell_type": "code",
   "execution_count": 3,
   "metadata": {},
   "outputs": [],
   "source": [
    "def linear(x, m, b, error):\n",
    "    currentError = random.uniform(-1 * error, error)\n",
    "    return m * x + b - currentError\n",
    "\n",
    "\n",
    "dataset = []\n",
    "dataAmount = 100\n",
    "for i in range(0, dataAmount):\n",
    "    x = random.random() * 10\n",
    "    y = linear(x, -2, -3, 5)\n",
    "    dataset.append((x, y))"
   ]
  },
  {
   "cell_type": "markdown",
   "metadata": {},
   "source": [
    "### Setting up matrices"
   ]
  },
  {
   "cell_type": "code",
   "execution_count": 4,
   "metadata": {},
   "outputs": [],
   "source": [
    "# Prepare data\n",
    "X = np.array([[1, x] for x, y in dataset])  # Add bias term (x0=1)\n",
    "Y = np.array([y for x, y in dataset])\n",
    "theta = np.zeros(2)  # Initialize parameters [theta0, theta1]"
   ]
  },
  {
   "cell_type": "markdown",
   "metadata": {},
   "source": [
    "### Batch gradient descent"
   ]
  },
  {
   "cell_type": "code",
   "execution_count": null,
   "metadata": {},
   "outputs": [],
   "source": [
    "for i in range(maxIteration):\n",
    "    # Calculate predictions\n",
    "    predictions = np.dot(X, theta)\n",
    "    \n",
    "    # Calculate errors\n",
    "    errors = predictions - Y\n",
    "    \n",
    "    # Calculate gradients\n",
    "    gradient = np.dot(X.T, errors) / dataAmount\n",
    "    \n",
    "    # Update parameters\n",
    "    theta = theta - alpha * gradient\n",
    "    \n",
    "    # Plot progress every 20 iterations\n",
    "    if i % 20 == 0 or i == maxIteration - 1:\n",
    "        plt.scatter([x for x, y in dataset], Y, color='blue', marker='o', label='Data points')\n",
    "        x_vals = np.array([0, 10])\n",
    "        y_vals = theta[0] + theta[1] * x_vals\n",
    "        plt.plot(x_vals, y_vals, color='red', label=f'Iteration {i}')\n",
    "        plt.xlabel('X-axis')\n",
    "        plt.ylabel('Y-axis')\n",
    "        plt.title('Linear Regression with Gradient Descent')\n",
    "        plt.legend()\n",
    "        plt.show()\n",
    "        time.sleep(0.5)  # Pause to see the plot\n",
    "    "
   ]
  },
  {
   "cell_type": "markdown",
   "metadata": {},
   "source": [
    "### Stochastic gradient descent"
   ]
  },
  {
   "cell_type": "code",
   "execution_count": null,
   "metadata": {},
   "outputs": [],
   "source": [
    "def hypothesis(X, theta):\n",
    "    return np.dot(X, theta)\n",
    "\n",
    "alphaStochastic = alpha\n",
    "\n",
    "for i in range(maxIteration):\n",
    "    for j in [0, 1]:\n",
    "        theta[j] = theta[j] - alphaStochastic * (hypothesis(X[i], theta) - Y[i]) * X[i][j]\n",
    "    alphaStochastic = alphaStochastic * 0.9 # learning rate decay\n",
    "\n",
    "    # Plot progress every 20 iterationsn\n",
    "    if i % 20 == 0 or i == maxIteration - 1:\n",
    "        plt.scatter([x for x, y in dataset], Y, color='blue', marker='o', label='Data points')\n",
    "        x_vals = np.array([0, 10])\n",
    "        y_vals = theta[0] + theta[1] * x_vals\n",
    "        plt.plot(x_vals, y_vals, color='red', label=f'Iteration {i}')\n",
    "        plt.xlabel('X-axis')\n",
    "        plt.ylabel('Y-axis')\n",
    "        plt.title('Linear Regression with Gradient Descent')\n",
    "        plt.legend()\n",
    "        plt.show()\n",
    "        time.sleep(0.5)  # Pause to see the plot\n"
   ]
  }
 ],
 "metadata": {
  "kernelspec": {
   "display_name": "ml_py_env",
   "language": "python",
   "name": "python3"
  },
  "language_info": {
   "codemirror_mode": {
    "name": "ipython",
    "version": 3
   },
   "file_extension": ".py",
   "mimetype": "text/x-python",
   "name": "python",
   "nbconvert_exporter": "python",
   "pygments_lexer": "ipython3",
   "version": "3.12.3"
  }
 },
 "nbformat": 4,
 "nbformat_minor": 2
}
