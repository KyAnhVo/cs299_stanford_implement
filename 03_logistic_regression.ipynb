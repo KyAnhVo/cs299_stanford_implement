{
 "cells": [
  {
   "cell_type": "markdown",
   "metadata": {},
   "source": [
    "# LECTURE 03: Logistic Regression"
   ]
  },
  {
   "cell_type": "markdown",
   "metadata": {},
   "source": [
    "### Boilerplate code"
   ]
  },
  {
   "cell_type": "code",
   "execution_count": 33,
   "metadata": {},
   "outputs": [],
   "source": [
    "import numpy as np\n",
    "import matplotlib.pyplot as plt\n",
    "\n",
    "import random\n",
    "import math"
   ]
  },
  {
   "cell_type": "markdown",
   "metadata": {},
   "source": [
    "### Create dataset"
   ]
  },
  {
   "cell_type": "code",
   "execution_count": 39,
   "metadata": {},
   "outputs": [],
   "source": [
    "dataX = []\n",
    "dataY = []\n",
    "for _ in range(100):\n",
    "    x = random.random() * 10\n",
    "    dataX.append([1, x])  # Include bias term\n",
    "    \n",
    "    # Create a logistic relationship: P(Y=1) increases with x\n",
    "    p = 1 / (1 + np.exp(-(0.5 * x - 2)))  # Arbitrary coefficients\n",
    "    dataY.append(round(p))  # Probabilistic labels"
   ]
  },
  {
   "cell_type": "markdown",
   "metadata": {},
   "source": [
    "### Generate random X and Y, and let all theta = 0"
   ]
  },
  {
   "cell_type": "code",
   "execution_count": 40,
   "metadata": {},
   "outputs": [],
   "source": [
    "X = np.array(dataX)\n",
    "Y = np.array(dataY)\n",
    "theta = np.zeros(len(dataX[0]))"
   ]
  },
  {
   "cell_type": "markdown",
   "metadata": {},
   "source": [
    "### Define logistic hypothesis functions"
   ]
  },
  {
   "cell_type": "code",
   "execution_count": 41,
   "metadata": {},
   "outputs": [],
   "source": [
    "def hypothesisLogistic(X, theta):\n",
    "    return sigmoid(np.dot(X, theta))\n",
    "def sigmoid(x):\n",
    "    return 1 / (1 + np.exp(-x))"
   ]
  },
  {
   "cell_type": "markdown",
   "metadata": {},
   "source": [
    "### BGD for Logistic Regression"
   ]
  },
  {
   "cell_type": "code",
   "execution_count": 42,
   "metadata": {},
   "outputs": [],
   "source": [
    "def Bgd( # APPLICABLE FOR LINEAR AND LOGISTIC ONLY\n",
    "    X: np.ndarray,\n",
    "    Y: np.ndarray,\n",
    "    theta: np.ndarray,\n",
    "    learningRate: float,\n",
    "    maxIteration: int,\n",
    ") -> None:\n",
    "    dataAmount = len(Y)\n",
    "    for iter in range(maxIteration):\n",
    "        h = hypothesisLogistic(X, theta)  # Vectorized predictions\n",
    "        gradient = np.dot(X.T, (h - Y)) / dataAmount  # Vectorized gradient\n",
    "        theta -= learningRate * gradient  # Vectorized update"
   ]
  },
  {
   "cell_type": "markdown",
   "metadata": {},
   "source": [
    "### Test code"
   ]
  },
  {
   "cell_type": "code",
   "execution_count": 44,
   "metadata": {},
   "outputs": [
    {
     "name": "stdout",
     "output_type": "stream",
     "text": [
      "Accuracy: 0.99\n"
     ]
    }
   ],
   "source": [
    "# Train the model\n",
    "Bgd(X, Y, theta, learningRate=0.00001, maxIteration=10000000)\n",
    "\n",
    "# Make predictions\n",
    "predictions = hypothesisLogistic(X, theta) > 0.5\n",
    "\n",
    "# Calculate accuracy\n",
    "accuracy = np.mean(predictions == Y)\n",
    "print(f\"Accuracy: {accuracy:.2f}\")"
   ]
  },
  {
   "cell_type": "code",
   "execution_count": null,
   "metadata": {},
   "outputs": [],
   "source": []
  }
 ],
 "metadata": {
  "kernelspec": {
   "display_name": "Python 3",
   "language": "python",
   "name": "python3"
  },
  "language_info": {
   "codemirror_mode": {
    "name": "ipython",
    "version": 3
   },
   "file_extension": ".py",
   "mimetype": "text/x-python",
   "name": "python",
   "nbconvert_exporter": "python",
   "pygments_lexer": "ipython3",
   "version": "3.13.2"
  }
 },
 "nbformat": 4,
 "nbformat_minor": 2
}
